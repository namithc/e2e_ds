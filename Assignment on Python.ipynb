{
 "cells": [
  {
   "cell_type": "code",
   "execution_count": 80,
   "metadata": {},
   "outputs": [
    {
     "data": {
      "text/plain": [
       "' I am very keen in building up my career in Data Science, but not sure from where to start. If I search the web it throws me thousands of articles, few are relevant others make me confused, again I come around to the same page. Supervised has provided me a good platform to remove all such qualms which were wrangling in my mind'"
      ]
     },
     "execution_count": 80,
     "metadata": {},
     "output_type": "execute_result"
    }
   ],
   "source": [
    "s=\" I am very keen in building up my career in Data Science, but not sure from where to start. If I search the web it throws me thousands of articles, few are relevant others make me confused, again I come around to the same page. Supervised has provided me a good platform to remove all such qualms which were wrangling in my mind\"\n",
    "s"
   ]
  },
  {
   "cell_type": "code",
   "execution_count": 10,
   "metadata": {},
   "outputs": [
    {
     "name": "stdout",
     "output_type": "stream",
     "text": [
      "Average word length of the string:  4.2063492063492065\n"
     ]
    }
   ],
   "source": [
    "# Consider the above text as a string, figure out the average length of the string.\n",
    "l=s.split()\n",
    "l1=[len(a) for a in l]\n",
    "print(\"Average word length of the string: \",sum(l1)/len(l1))"
   ]
  },
  {
   "cell_type": "code",
   "execution_count": 11,
   "metadata": {},
   "outputs": [
    {
     "data": {
      "text/plain": [
       "' i am very keen in building up my career in data science, but not sure from where to start. if i search the web it throws me thousands of articles, few are relevant others make me confused, again i come around to the same page. supervised has provided me a good platform to remove all such qualms which were wrangling in my mind'"
      ]
     },
     "execution_count": 11,
     "metadata": {},
     "output_type": "execute_result"
    }
   ],
   "source": [
    "#Lower the text in the string.\n",
    "s.lower()"
   ]
  },
  {
   "cell_type": "code",
   "execution_count": 15,
   "metadata": {},
   "outputs": [
    {
     "data": {
      "text/plain": [
       "' I am very keen in building up my career in Data Science but not sure from where to start If I search the web it throws me thousands of articles few are relevant others make me confused again I come around to the same page Supervised has provided me a good platform to remove all such qualms which were wrangling in my mind'"
      ]
     },
     "execution_count": 15,
     "metadata": {},
     "output_type": "execute_result"
    }
   ],
   "source": [
    "#Try to get the clean text removing the punctuation from the string.\n",
    "''.join(a for a in s if(a.isalpha() or a== ' '))"
   ]
  },
  {
   "cell_type": "code",
   "execution_count": 20,
   "metadata": {},
   "outputs": [
    {
     "data": {
      "text/plain": [
       "'Data Science'"
      ]
     },
     "execution_count": 20,
     "metadata": {},
     "output_type": "execute_result"
    }
   ],
   "source": [
    "#Extract word \"Data Science\" from the string.\n",
    "s[s.find(\"Data Science\"):s.find(\"Data Science\")+len(\"Data Science\"):]"
   ]
  },
  {
   "cell_type": "code",
   "execution_count": 26,
   "metadata": {},
   "outputs": [
    {
     "data": {
      "text/plain": [
       "[('come', 1),\n",
       " ('around', 1),\n",
       " ('i', 3),\n",
       " ('very', 1),\n",
       " ('sure', 1),\n",
       " ('the', 2),\n",
       " ('confused,', 1),\n",
       " ('good', 1),\n",
       " ('am', 1),\n",
       " ('are', 1),\n",
       " ('to', 3),\n",
       " ('from', 1),\n",
       " ('where', 1),\n",
       " ('which', 1),\n",
       " ('in', 3),\n",
       " ('it', 1),\n",
       " ('again', 1),\n",
       " ('thousands', 1),\n",
       " ('start.', 1),\n",
       " ('throws', 1),\n",
       " ('such', 1),\n",
       " ('keen', 1),\n",
       " ('but', 1),\n",
       " ('few', 1),\n",
       " ('not', 1),\n",
       " ('a', 1),\n",
       " ('same', 1),\n",
       " ('mind', 1),\n",
       " ('provided', 1),\n",
       " ('were', 1),\n",
       " ('qualms', 1),\n",
       " ('me', 3),\n",
       " ('others', 1),\n",
       " ('up', 1),\n",
       " ('make', 1),\n",
       " ('remove', 1),\n",
       " ('science,', 1),\n",
       " ('platform', 1),\n",
       " ('search', 1),\n",
       " ('page.', 1),\n",
       " ('articles,', 1),\n",
       " ('all', 1),\n",
       " ('supervised', 1),\n",
       " ('building', 1),\n",
       " ('my', 2),\n",
       " ('career', 1),\n",
       " ('wrangling', 1),\n",
       " ('if', 1),\n",
       " ('of', 1),\n",
       " ('web', 1),\n",
       " ('has', 1),\n",
       " ('data', 1),\n",
       " ('relevant', 1)]"
      ]
     },
     "execution_count": 26,
     "metadata": {},
     "output_type": "execute_result"
    }
   ],
   "source": [
    "#Find the frequency of words used in the string.\n",
    "l = s.lower().split()\n",
    "l1=list(set(l))\n",
    "l2=[(a,l.count(a)) for a in l1]\n",
    "l2"
   ]
  },
  {
   "cell_type": "code",
   "execution_count": 27,
   "metadata": {},
   "outputs": [],
   "source": [
    "#Fetch the duplicate pairs used in the string.\n",
    "# Not understood the question!!!!\n"
   ]
  },
  {
   "cell_type": "code",
   "execution_count": 28,
   "metadata": {},
   "outputs": [
    {
     "data": {
      "text/plain": [
       "' I am very keen in building up my career in Data Science, but not sure from where to start. If I search the web it throws me thousands of articles, few are relevant others make me confused, again I come around to the same page. Unsupervised has provided me a good platform to remove all such qualms which were wrangling in my mind'"
      ]
     },
     "execution_count": 28,
     "metadata": {},
     "output_type": "execute_result"
    }
   ],
   "source": [
    "#Can you change the word \"Supervised\" to \"Unsupervised\" in the string\n",
    "s.replace(\"Supervised\",\"Unsupervised\")"
   ]
  },
  {
   "cell_type": "code",
   "execution_count": 29,
   "metadata": {},
   "outputs": [
    {
     "data": {
      "text/plain": [
       "[' I am very keen in building up my career in Data Science, but not sure from where to start',\n",
       " ' If I search the web it throws me thousands of articles, few are relevant others make me confused, again I come around to the same page',\n",
       " ' Supervised has provided me a good platform to remove all such qualms which were wrangling in my mind']"
      ]
     },
     "execution_count": 29,
     "metadata": {},
     "output_type": "execute_result"
    }
   ],
   "source": [
    "s.split('.')"
   ]
  },
  {
   "cell_type": "code",
   "execution_count": 32,
   "metadata": {},
   "outputs": [
    {
     "data": {
      "text/plain": [
       "['sure',\n",
       " 'where',\n",
       " 'the',\n",
       " 'me',\n",
       " 'are',\n",
       " 'make',\n",
       " 'me',\n",
       " 'come',\n",
       " 'the',\n",
       " 'same',\n",
       " 'me',\n",
       " 'remove',\n",
       " 'were']"
      ]
     },
     "execution_count": 32,
     "metadata": {},
     "output_type": "execute_result"
    }
   ],
   "source": [
    "#Find the words from the string which ends with \"e\"\n",
    "[a for a in s.split() if(a.endswith(\"e\"))]"
   ]
  },
  {
   "cell_type": "code",
   "execution_count": 33,
   "metadata": {},
   "outputs": [
    {
     "data": {
      "text/plain": [
       "22"
      ]
     },
     "execution_count": 33,
     "metadata": {},
     "output_type": "execute_result"
    }
   ],
   "source": [
    "#Figure out number of a's used in the string.\n",
    "len([a for a in s if(a=='a')])"
   ]
  },
  {
   "cell_type": "code",
   "execution_count": 96,
   "metadata": {},
   "outputs": [
    {
     "data": {
      "text/plain": [
       "{'apple': 0.25, 'sugar': 0.5, 'rice': 2.5, 'milk': 2.5, 'egg': 1}"
      ]
     },
     "execution_count": 96,
     "metadata": {},
     "output_type": "execute_result"
    }
   ],
   "source": [
    "#Questions on Dictionary\n",
    "#In the weekend , I purchased 250g of apple, 500g of sugar, 2.5 kg of rice, 2.5 litres of milk and finally 1 dozen of egg.\n",
    "#Can you help me frame the above purchase in the form of dictionary with commodities as keys to it.\n",
    "\n",
    "dict={\n",
    "    'apple':0.250,\n",
    "    'sugar':0.500,\n",
    "    'rice':2.5,\n",
    "    'milk':2.5,\n",
    "    'egg':1\n",
    "}\n",
    "dict"
   ]
  },
  {
   "cell_type": "code",
   "execution_count": 97,
   "metadata": {},
   "outputs": [
    {
     "data": {
      "text/plain": [
       "{'apple': 0.25, 'sugar': 0.5, 'rice': 2.5, 'milk': 2.5, 'egg': 1, 'atta': 1}"
      ]
     },
     "execution_count": 97,
     "metadata": {},
     "output_type": "execute_result"
    }
   ],
   "source": [
    "#I forgot to mention another item, 1kg of atta packet. Can you also add it ?\n",
    "dict['atta']=1\n",
    "dict"
   ]
  },
  {
   "cell_type": "code",
   "execution_count": 98,
   "metadata": {},
   "outputs": [
    {
     "data": {
      "text/plain": [
       "{'apple': 0.25, 'sugar': 0.5, 'rice': 1, 'milk': 2.5, 'egg': 1, 'atta': 1}"
      ]
     },
     "execution_count": 98,
     "metadata": {},
     "output_type": "execute_result"
    }
   ],
   "source": [
    "#Instead of 2kg of rice, I bought only 1kg of rice. Can you change the corresponding value ?\n",
    "dict['rice'] = 1\n",
    "dict"
   ]
  },
  {
   "cell_type": "code",
   "execution_count": 99,
   "metadata": {},
   "outputs": [
    {
     "name": "stdout",
     "output_type": "stream",
     "text": [
      "('apple', 0.25)\n",
      "('sugar', 0.5)\n",
      "('rice', 1)\n",
      "('milk', 2.5)\n",
      "('egg', 1)\n",
      "('atta', 1)\n"
     ]
    }
   ],
   "source": [
    "#Can you list out all these items using a loop.\n",
    "for k in dict.items():\n",
    "    print(k)"
   ]
  },
  {
   "cell_type": "code",
   "execution_count": 100,
   "metadata": {},
   "outputs": [
    {
     "ename": "KeyError",
     "evalue": "'atta'",
     "output_type": "error",
     "traceback": [
      "\u001b[1;31m---------------------------------------------------------------------------\u001b[0m",
      "\u001b[1;31mKeyError\u001b[0m                                  Traceback (most recent call last)",
      "\u001b[1;32m<ipython-input-100-1aa0e5e6c5d9>\u001b[0m in \u001b[0;36m<module>\u001b[1;34m\u001b[0m\n\u001b[0;32m     13\u001b[0m \u001b[0mbillamount\u001b[0m \u001b[1;33m=\u001b[0m \u001b[1;36m0\u001b[0m\u001b[1;33m\u001b[0m\u001b[1;33m\u001b[0m\u001b[0m\n\u001b[0;32m     14\u001b[0m \u001b[1;32mfor\u001b[0m \u001b[0mk\u001b[0m \u001b[1;32min\u001b[0m \u001b[0mdict\u001b[0m\u001b[1;33m.\u001b[0m\u001b[0mkeys\u001b[0m\u001b[1;33m(\u001b[0m\u001b[1;33m)\u001b[0m\u001b[1;33m:\u001b[0m\u001b[1;33m\u001b[0m\u001b[1;33m\u001b[0m\u001b[0m\n\u001b[1;32m---> 15\u001b[1;33m     \u001b[0mbillamount\u001b[0m \u001b[1;33m+=\u001b[0m \u001b[0mdict\u001b[0m\u001b[1;33m[\u001b[0m\u001b[0mk\u001b[0m\u001b[1;33m]\u001b[0m\u001b[1;33m*\u001b[0m\u001b[0mdict_price\u001b[0m\u001b[1;33m[\u001b[0m\u001b[0mk\u001b[0m\u001b[1;33m]\u001b[0m\u001b[1;33m\u001b[0m\u001b[1;33m\u001b[0m\u001b[0m\n\u001b[0m\u001b[0;32m     16\u001b[0m \u001b[0mbillamount\u001b[0m\u001b[1;33m\u001b[0m\u001b[1;33m\u001b[0m\u001b[0m\n",
      "\u001b[1;31mKeyError\u001b[0m: 'atta'"
     ]
    }
   ],
   "source": [
    "#However, the cost of 1 kg apple is Rs.220, 1 kg of sugar is Rs.43, 1 Kg of rice is Rs. 45, 1 litre of milk is Rs.30 and \n",
    "#1 dozen of egg is Rs. 60.\n",
    "#Create another dictionary for pricing.\n",
    "\n",
    "#Thereby, prepare a bill for me of the overall cost of the total commodities purchased by using two dictionaries !\n",
    "dict_price={\n",
    "    'apple':220,\n",
    "    'sugar':43,\n",
    "    'rice':45,\n",
    "    'milk':30,\n",
    "    'egg':60\n",
    "}\n",
    "billamount = 0\n",
    "for k in dict.keys():\n",
    "    billamount += dict[k]*dict_price[k]\n",
    "billamount\n"
   ]
  },
  {
   "cell_type": "code",
   "execution_count": 101,
   "metadata": {},
   "outputs": [
    {
     "data": {
      "text/plain": [
       "['Amazon',\n",
       " 'Apple',\n",
       " 'Facebook',\n",
       " 'Google',\n",
       " 'HiSilicon',\n",
       " 'Microsoft',\n",
       " 'SenseTime']"
      ]
     },
     "execution_count": 101,
     "metadata": {},
     "output_type": "execute_result"
    }
   ],
   "source": [
    "########### Questions on List\n",
    "#Listed are the top AI companies in the world\n",
    "AI_companies=['Amazon','Facebook','HiSilicon','Google','Apple','Microsoft','SenseTime']\n",
    "#Sort the list in ascending order\n",
    "for i in range(len(AI_companies)):\n",
    "    for j in range(len(AI_companies)):\n",
    "        if(AI_companies[i] < AI_companies[j]):\n",
    "            x=AI_companies[i]\n",
    "            AI_companies[i]=AI_companies[j]\n",
    "            AI_companies[j]=x\n",
    "AI_companies\n",
    "\n"
   ]
  },
  {
   "cell_type": "code",
   "execution_count": 102,
   "metadata": {},
   "outputs": [
    {
     "data": {
      "text/plain": [
       "['Amazon',\n",
       " 'Apple',\n",
       " 'Facebook',\n",
       " 'Google',\n",
       " 'HiSilicon',\n",
       " 'Microsoft',\n",
       " 'SenseTime',\n",
       " 'Nvidia',\n",
       " 'OpenAI',\n",
       " 'Qualcomm',\n",
       " 'Reliance']"
      ]
     },
     "execution_count": 102,
     "metadata": {},
     "output_type": "execute_result"
    }
   ],
   "source": [
    "#Add multiple companies at once 'Nvidia', 'OpenAI' , 'Qualcomm' and 'Reliance' to the list\n",
    "AI_companies.extend(['Nvidia', 'OpenAI' , 'Qualcomm', 'Reliance'])\n",
    "AI_companies"
   ]
  },
  {
   "cell_type": "code",
   "execution_count": 103,
   "metadata": {},
   "outputs": [
    {
     "data": {
      "text/plain": [
       "['amazon',\n",
       " 'apple',\n",
       " 'facebook',\n",
       " 'google',\n",
       " 'hisilicon',\n",
       " 'microsoft',\n",
       " 'sensetime',\n",
       " 'nvidia',\n",
       " 'openai',\n",
       " 'qualcomm',\n",
       " 'reliance']"
      ]
     },
     "execution_count": 103,
     "metadata": {},
     "output_type": "execute_result"
    }
   ],
   "source": [
    "#Lower the list using List comprehension\n",
    "[a.lower() for a in AI_companies]\n"
   ]
  },
  {
   "cell_type": "code",
   "execution_count": 104,
   "metadata": {},
   "outputs": [
    {
     "data": {
      "text/plain": [
       "['Amazon',\n",
       " 'Apple',\n",
       " 'Facebook',\n",
       " 'Google',\n",
       " 'HiSilicon',\n",
       " 'Microsoft',\n",
       " 'SenseTime',\n",
       " 'Nvidia',\n",
       " 'OpenAI',\n",
       " 'Qualcomm']"
      ]
     },
     "execution_count": 104,
     "metadata": {},
     "output_type": "execute_result"
    }
   ],
   "source": [
    "#Elimiate 'Reliance' from the list\n",
    "AI_companies.remove('Reliance')\n",
    "AI_companies"
   ]
  },
  {
   "cell_type": "code",
   "execution_count": 105,
   "metadata": {},
   "outputs": [
    {
     "data": {
      "text/plain": [
       "['Facebook', 'Google', 'Microsoft']"
      ]
     },
     "execution_count": 105,
     "metadata": {},
     "output_type": "execute_result"
    }
   ],
   "source": [
    "#Extract 'Facebook', 'Google' and 'Microsoft' using a single command\n",
    "[a for a in AI_companies if a in ['Facebook', 'Google', 'Microsoft']]"
   ]
  },
  {
   "cell_type": "code",
   "execution_count": 106,
   "metadata": {},
   "outputs": [
    {
     "data": {
      "text/plain": [
       "(220, 43, 45, 30, 60)"
      ]
     },
     "execution_count": 106,
     "metadata": {},
     "output_type": "execute_result"
    }
   ],
   "source": [
    "#Questions on Tuple\n",
    "#(a)Consider the above standard price problem statement and place the prices in the form of the tuple.\n",
    "t=tuple(dict_price.values())\n",
    "t"
   ]
  },
  {
   "cell_type": "code",
   "execution_count": 107,
   "metadata": {},
   "outputs": [
    {
     "name": "stdout",
     "output_type": "stream",
     "text": [
      "30 220\n"
     ]
    }
   ],
   "source": [
    "#(b)Find out the min and max price among them.\n",
    "print(min(t), max(t))\n"
   ]
  },
  {
   "cell_type": "code",
   "execution_count": 108,
   "metadata": {},
   "outputs": [
    {
     "data": {
      "text/plain": [
       "('Amazon',\n",
       " 'Apple',\n",
       " 'Facebook',\n",
       " 'Google',\n",
       " 'HiSilicon',\n",
       " 'Microsoft',\n",
       " 'SenseTime',\n",
       " 'Nvidia',\n",
       " 'OpenAI',\n",
       " 'Qualcomm')"
      ]
     },
     "execution_count": 108,
     "metadata": {},
     "output_type": "execute_result"
    }
   ],
   "source": [
    "#(c)Also, convert the above \"AI_companies\" list to a tuple.\n",
    "AI_tuple = tuple(AI_companies)\n",
    "AI_tuple"
   ]
  },
  {
   "cell_type": "code",
   "execution_count": 115,
   "metadata": {},
   "outputs": [
    {
     "data": {
      "text/plain": [
       "('Amazon',\n",
       " 'Apple',\n",
       " 'Facebook',\n",
       " 'Google',\n",
       " 'HiSilicon',\n",
       " 'Microsoft',\n",
       " 'SenseTime',\n",
       " 'Nvidia',\n",
       " 'OpenAI',\n",
       " 'Qualcomm',\n",
       " 220,\n",
       " 43,\n",
       " 45,\n",
       " 30,\n",
       " 60)"
      ]
     },
     "execution_count": 115,
     "metadata": {},
     "output_type": "execute_result"
    }
   ],
   "source": [
    "#(d)Combine two above tuples to a single tuple.\n",
    "new_t=list(AI_tuple)\n",
    "new_t.extend(t)\n",
    "tuple(new_t)\n",
    "#[str(a) for a in t]\n",
    "\n",
    "\n"
   ]
  },
  {
   "cell_type": "code",
   "execution_count": 116,
   "metadata": {},
   "outputs": [
    {
     "name": "stdout",
     "output_type": "stream",
     "text": [
      "10 5\n"
     ]
    }
   ],
   "source": [
    "#(e)Compare the length of two tuples.\n",
    "print(len(AI_tuple),len(t))"
   ]
  },
  {
   "cell_type": "code",
   "execution_count": null,
   "metadata": {},
   "outputs": [],
   "source": []
  }
 ],
 "metadata": {
  "kernelspec": {
   "display_name": "Python 3",
   "language": "python",
   "name": "python3"
  },
  "language_info": {
   "codemirror_mode": {
    "name": "ipython",
    "version": 3
   },
   "file_extension": ".py",
   "mimetype": "text/x-python",
   "name": "python",
   "nbconvert_exporter": "python",
   "pygments_lexer": "ipython3",
   "version": "3.7.4"
  }
 },
 "nbformat": 4,
 "nbformat_minor": 2
}
